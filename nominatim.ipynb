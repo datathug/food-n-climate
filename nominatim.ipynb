{
 "cells": [
  {
   "cell_type": "code",
   "execution_count": null,
   "id": "initial_id",
   "metadata": {
    "collapsed": true
   },
   "outputs": [],
   "source": [
    "from nominatim import NoResultsException\n",
    "from geopy.exc import GeocoderUnavailable\n",
    "from geopy import Location\n",
    "from geopy.geocoders import Nominatim\n",
    "from common import logger\n",
    "\n",
    "\n",
    "class InteractiveGeocoder(Nominatim):\n",
    "\n",
    "    cache: {}\n",
    "    vizmap:\n",
    "\n",
    "    def __init__(self):\n",
    "        super().__init__(user_agent=\"nonsense\")\n",
    "        self.cache = {}     # str query: Location location\n",
    "\n",
    "    def get_location(self, place: str, country: str = None, ignore_cache: bool = False):\n",
    "\n",
    "        place = f\"{place}, {country}\" if country else place\n",
    "        if place in self.cache:\n",
    "        try:\n",
    "            resp: Location = self.geocode(query=place)\n",
    "            self.cache.append(resp)\n",
    "        except GeocoderUnavailable:\n",
    "            logger.warning(f'Geocoder unavailable, better wait')\n",
    "            return\n",
    "\n",
    "        if not resp:\n",
    "            raise logger.warning(f\"received no response for '{place} {country}'\")\n",
    "\n",
    "        feat = None\n",
    "        if self.layer:\n",
    "            feat = self.visualize(resp, drop_features=drop_features)\n",
    "        return resp, feat\n",
    "\n",
    "    def \n",
    "\n",
    "# Instantiate a new Nominatim client\n",
    "app = InteractiveGeocoder(user_agent=\"research\")\n",
    "# Print raw data\n",
    "pprint(location)"
   ]
  }
 ],
 "metadata": {
  "kernelspec": {
   "display_name": "Python 3",
   "language": "python",
   "name": "python3"
  },
  "language_info": {
   "codemirror_mode": {
    "name": "ipython",
    "version": 2
   },
   "file_extension": ".py",
   "mimetype": "text/x-python",
   "name": "python",
   "nbconvert_exporter": "python",
   "pygments_lexer": "ipython2",
   "version": "2.7.6"
  }
 },
 "nbformat": 4,
 "nbformat_minor": 5
}
