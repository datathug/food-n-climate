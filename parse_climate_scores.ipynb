{
 "cells": [
  {
   "cell_type": "code",
   "id": "initial_id",
   "metadata": {
    "collapsed": true,
    "ExecuteTime": {
     "end_time": "2024-09-30T19:53:32.383403Z",
     "start_time": "2024-09-30T19:53:31.566055Z"
    }
   },
   "source": [
    "import pandas as pd\n",
    "try:\n",
    "    import openpyxl    # check\n",
    "    del openpyxl\n",
    "except ImportError:\n",
    "    %conda install openpyxl"
   ],
   "outputs": [],
   "execution_count": 1
  },
  {
   "metadata": {
    "ExecuteTime": {
     "end_time": "2024-09-30T19:57:41.366532Z",
     "start_time": "2024-09-30T19:57:38.500202Z"
    }
   },
   "cell_type": "code",
   "source": [
    "url = \"https://zenodo.org/records/6483031/files/PDO_scores_and_social_ecological_indicator_data.xlsx?download=1\"\n",
    "df = pd.read_excel(url)"
   ],
   "id": "fc52737ae75b1322",
   "outputs": [],
   "execution_count": 6
  },
  {
   "metadata": {
    "ExecuteTime": {
     "end_time": "2024-09-30T19:53:54.470201Z",
     "start_time": "2024-09-30T19:53:54.439809Z"
    }
   },
   "cell_type": "code",
   "source": "df.info()",
   "id": "2c921ee2ddf7ea11",
   "outputs": [
    {
     "name": "stdout",
     "output_type": "stream",
     "text": [
      "<class 'pandas.core.frame.DataFrame'>\n",
      "RangeIndex: 1348 entries, 0 to 1347\n",
      "Data columns (total 20 columns):\n",
      " #   Column                               Non-Null Count  Dtype  \n",
      "---  ------                               --------------  -----  \n",
      " 0   NUTS3_ID                             1348 non-null   object \n",
      " 1   MEDITERRANEAN                        1348 non-null   int64  \n",
      " 2   PDO_SCORE_all                        1348 non-null   int64  \n",
      " 3   PDO_SCORE_meat                       1348 non-null   int64  \n",
      " 4   PDO_SCORE_cheese                     1348 non-null   int64  \n",
      " 5   PDO_SCORE_oils_and_fats              1348 non-null   int64  \n",
      " 6   PDO_SCORE_fruits_vegetables_cereals  1348 non-null   int64  \n",
      " 7   INDICATOR_HNVF                       1348 non-null   float64\n",
      " 8   INDICATOR_natura_2000                1348 non-null   float64\n",
      " 9   INDICATOR_CLC_richness               1348 non-null   int64  \n",
      " 10  INDICATOR_semi_natural_farmland      1348 non-null   float64\n",
      " 11  INDICATOR_UNESCO_sites               1348 non-null   int64  \n",
      " 12  INDICATOR_tourism_beds               1348 non-null   int64  \n",
      " 13  INDICATOR_population_density         1348 non-null   float64\n",
      " 14  INDICATOR_median_age                 1348 non-null   float64\n",
      " 15  INDICATOR_5year_migration_rate       1348 non-null   float64\n",
      " 16  INDICATOR_GDP_pc                     1348 non-null   int64  \n",
      " 17  INDICATOR_organic_farmland           1348 non-null   float64\n",
      " 18  INDICATOR_avg_farm_size              1348 non-null   float64\n",
      " 19  INDICATOR_unemployment_20_64         1348 non-null   float64\n",
      "dtypes: float64(9), int64(10), object(1)\n",
      "memory usage: 210.8+ KB\n"
     ]
    }
   ],
   "execution_count": 3
  },
  {
   "metadata": {
    "ExecuteTime": {
     "end_time": "2024-09-30T19:57:43.048929Z",
     "start_time": "2024-09-30T19:57:43.021077Z"
    }
   },
   "cell_type": "code",
   "source": [
    "# rename columns to keep neat\n",
    "renamer = lambda x: x.replace('INDICATOR', 'I').replace('PDO_SCORE', 'PDO')\n",
    "df.rename(renamer, axis=1, inplace=True)\n",
    "df.info()"
   ],
   "id": "86cbb6a38f17a9eb",
   "outputs": [
    {
     "name": "stdout",
     "output_type": "stream",
     "text": [
      "<class 'pandas.core.frame.DataFrame'>\n",
      "RangeIndex: 1348 entries, 0 to 1347\n",
      "Data columns (total 20 columns):\n",
      " #   Column                         Non-Null Count  Dtype  \n",
      "---  ------                         --------------  -----  \n",
      " 0   NUTS3_ID                       1348 non-null   object \n",
      " 1   MEDITERRANEAN                  1348 non-null   int64  \n",
      " 2   PDO_all                        1348 non-null   int64  \n",
      " 3   PDO_meat                       1348 non-null   int64  \n",
      " 4   PDO_cheese                     1348 non-null   int64  \n",
      " 5   PDO_oils_and_fats              1348 non-null   int64  \n",
      " 6   PDO_fruits_vegetables_cereals  1348 non-null   int64  \n",
      " 7   I_HNVF                         1348 non-null   float64\n",
      " 8   I_natura_2000                  1348 non-null   float64\n",
      " 9   I_CLC_richness                 1348 non-null   int64  \n",
      " 10  I_semi_natural_farmland        1348 non-null   float64\n",
      " 11  I_UNESCO_sites                 1348 non-null   int64  \n",
      " 12  I_tourism_beds                 1348 non-null   int64  \n",
      " 13  I_population_density           1348 non-null   float64\n",
      " 14  I_median_age                   1348 non-null   float64\n",
      " 15  I_5year_migration_rate         1348 non-null   float64\n",
      " 16  I_GDP_pc                       1348 non-null   int64  \n",
      " 17  I_organic_farmland             1348 non-null   float64\n",
      " 18  I_avg_farm_size                1348 non-null   float64\n",
      " 19  I_unemployment_20_64           1348 non-null   float64\n",
      "dtypes: float64(9), int64(10), object(1)\n",
      "memory usage: 210.8+ KB\n"
     ]
    }
   ],
   "execution_count": 7
  },
  {
   "metadata": {
    "ExecuteTime": {
     "end_time": "2024-09-30T19:58:12.103509Z",
     "start_time": "2024-09-30T19:58:12.045279Z"
    }
   },
   "cell_type": "code",
   "source": "df.tail()",
   "id": "c16fe155b57c8739",
   "outputs": [
    {
     "data": {
      "text/plain": [
       "     NUTS3_ID  MEDITERRANEAN  PDO_all  PDO_meat  PDO_cheese  \\\n",
       "1343    UKN12              0        0         0           0   \n",
       "1344    UKN13              0        1         0           0   \n",
       "1345    UKN14              0        0         0           0   \n",
       "1346    UKN15              0        0         0           0   \n",
       "1347    UKN16              0        0         0           0   \n",
       "\n",
       "      PDO_oils_and_fats  PDO_fruits_vegetables_cereals     I_HNVF  \\\n",
       "1343                  0                              0  24.472689   \n",
       "1344                  0                              0   3.240085   \n",
       "1345                  0                              0   2.478140   \n",
       "1346                  0                              0  22.384692   \n",
       "1347                  0                              0  20.204977   \n",
       "\n",
       "      I_natura_2000  I_CLC_richness  I_semi_natural_farmland  I_UNESCO_sites  \\\n",
       "1343       0.103647              27                 3.079378               1   \n",
       "1344       0.221175              21                 2.332834               0   \n",
       "1345       0.009826              16                 7.838372               0   \n",
       "1346       0.125467              26                 0.760258               0   \n",
       "1347       0.065040              20                 4.152062               0   \n",
       "\n",
       "      I_tourism_beds  I_population_density  I_median_age  \\\n",
       "1343               0                  72.6          41.3   \n",
       "1344               0                 248.7          39.4   \n",
       "1345               0                 284.6          40.5   \n",
       "1346               0                 130.8          42.2   \n",
       "1347               0                  40.8          39.6   \n",
       "\n",
       "      I_5year_migration_rate  I_GDP_pc  I_organic_farmland  I_avg_farm_size  \\\n",
       "1343                1.620176     19500                 0.0         0.935549   \n",
       "1344                1.957704     28100                 0.0         0.935549   \n",
       "1345                4.869069     29500                 0.0         0.935549   \n",
       "1346                1.882719     39100                 0.0         0.935549   \n",
       "1347                2.011944     24200                 0.0         0.935549   \n",
       "\n",
       "      I_unemployment_20_64  \n",
       "1343                   2.4  \n",
       "1344                   2.4  \n",
       "1345                   2.4  \n",
       "1346                   2.4  \n",
       "1347                   2.4  "
      ],
      "text/html": [
       "<div>\n",
       "<style scoped>\n",
       "    .dataframe tbody tr th:only-of-type {\n",
       "        vertical-align: middle;\n",
       "    }\n",
       "\n",
       "    .dataframe tbody tr th {\n",
       "        vertical-align: top;\n",
       "    }\n",
       "\n",
       "    .dataframe thead th {\n",
       "        text-align: right;\n",
       "    }\n",
       "</style>\n",
       "<table border=\"1\" class=\"dataframe\">\n",
       "  <thead>\n",
       "    <tr style=\"text-align: right;\">\n",
       "      <th></th>\n",
       "      <th>NUTS3_ID</th>\n",
       "      <th>MEDITERRANEAN</th>\n",
       "      <th>PDO_all</th>\n",
       "      <th>PDO_meat</th>\n",
       "      <th>PDO_cheese</th>\n",
       "      <th>PDO_oils_and_fats</th>\n",
       "      <th>PDO_fruits_vegetables_cereals</th>\n",
       "      <th>I_HNVF</th>\n",
       "      <th>I_natura_2000</th>\n",
       "      <th>I_CLC_richness</th>\n",
       "      <th>I_semi_natural_farmland</th>\n",
       "      <th>I_UNESCO_sites</th>\n",
       "      <th>I_tourism_beds</th>\n",
       "      <th>I_population_density</th>\n",
       "      <th>I_median_age</th>\n",
       "      <th>I_5year_migration_rate</th>\n",
       "      <th>I_GDP_pc</th>\n",
       "      <th>I_organic_farmland</th>\n",
       "      <th>I_avg_farm_size</th>\n",
       "      <th>I_unemployment_20_64</th>\n",
       "    </tr>\n",
       "  </thead>\n",
       "  <tbody>\n",
       "    <tr>\n",
       "      <th>1343</th>\n",
       "      <td>UKN12</td>\n",
       "      <td>0</td>\n",
       "      <td>0</td>\n",
       "      <td>0</td>\n",
       "      <td>0</td>\n",
       "      <td>0</td>\n",
       "      <td>0</td>\n",
       "      <td>24.472689</td>\n",
       "      <td>0.103647</td>\n",
       "      <td>27</td>\n",
       "      <td>3.079378</td>\n",
       "      <td>1</td>\n",
       "      <td>0</td>\n",
       "      <td>72.6</td>\n",
       "      <td>41.3</td>\n",
       "      <td>1.620176</td>\n",
       "      <td>19500</td>\n",
       "      <td>0.0</td>\n",
       "      <td>0.935549</td>\n",
       "      <td>2.4</td>\n",
       "    </tr>\n",
       "    <tr>\n",
       "      <th>1344</th>\n",
       "      <td>UKN13</td>\n",
       "      <td>0</td>\n",
       "      <td>1</td>\n",
       "      <td>0</td>\n",
       "      <td>0</td>\n",
       "      <td>0</td>\n",
       "      <td>0</td>\n",
       "      <td>3.240085</td>\n",
       "      <td>0.221175</td>\n",
       "      <td>21</td>\n",
       "      <td>2.332834</td>\n",
       "      <td>0</td>\n",
       "      <td>0</td>\n",
       "      <td>248.7</td>\n",
       "      <td>39.4</td>\n",
       "      <td>1.957704</td>\n",
       "      <td>28100</td>\n",
       "      <td>0.0</td>\n",
       "      <td>0.935549</td>\n",
       "      <td>2.4</td>\n",
       "    </tr>\n",
       "    <tr>\n",
       "      <th>1345</th>\n",
       "      <td>UKN14</td>\n",
       "      <td>0</td>\n",
       "      <td>0</td>\n",
       "      <td>0</td>\n",
       "      <td>0</td>\n",
       "      <td>0</td>\n",
       "      <td>0</td>\n",
       "      <td>2.478140</td>\n",
       "      <td>0.009826</td>\n",
       "      <td>16</td>\n",
       "      <td>7.838372</td>\n",
       "      <td>0</td>\n",
       "      <td>0</td>\n",
       "      <td>284.6</td>\n",
       "      <td>40.5</td>\n",
       "      <td>4.869069</td>\n",
       "      <td>29500</td>\n",
       "      <td>0.0</td>\n",
       "      <td>0.935549</td>\n",
       "      <td>2.4</td>\n",
       "    </tr>\n",
       "    <tr>\n",
       "      <th>1346</th>\n",
       "      <td>UKN15</td>\n",
       "      <td>0</td>\n",
       "      <td>0</td>\n",
       "      <td>0</td>\n",
       "      <td>0</td>\n",
       "      <td>0</td>\n",
       "      <td>0</td>\n",
       "      <td>22.384692</td>\n",
       "      <td>0.125467</td>\n",
       "      <td>26</td>\n",
       "      <td>0.760258</td>\n",
       "      <td>0</td>\n",
       "      <td>0</td>\n",
       "      <td>130.8</td>\n",
       "      <td>42.2</td>\n",
       "      <td>1.882719</td>\n",
       "      <td>39100</td>\n",
       "      <td>0.0</td>\n",
       "      <td>0.935549</td>\n",
       "      <td>2.4</td>\n",
       "    </tr>\n",
       "    <tr>\n",
       "      <th>1347</th>\n",
       "      <td>UKN16</td>\n",
       "      <td>0</td>\n",
       "      <td>0</td>\n",
       "      <td>0</td>\n",
       "      <td>0</td>\n",
       "      <td>0</td>\n",
       "      <td>0</td>\n",
       "      <td>20.204977</td>\n",
       "      <td>0.065040</td>\n",
       "      <td>20</td>\n",
       "      <td>4.152062</td>\n",
       "      <td>0</td>\n",
       "      <td>0</td>\n",
       "      <td>40.8</td>\n",
       "      <td>39.6</td>\n",
       "      <td>2.011944</td>\n",
       "      <td>24200</td>\n",
       "      <td>0.0</td>\n",
       "      <td>0.935549</td>\n",
       "      <td>2.4</td>\n",
       "    </tr>\n",
       "  </tbody>\n",
       "</table>\n",
       "</div>"
      ]
     },
     "execution_count": 9,
     "metadata": {},
     "output_type": "execute_result"
    }
   ],
   "execution_count": 9
  },
  {
   "metadata": {
    "ExecuteTime": {
     "end_time": "2024-09-30T20:01:40.777765Z",
     "start_time": "2024-09-30T20:01:40.701186Z"
    }
   },
   "cell_type": "code",
   "source": [
    "# save to CSV for use in qgis\n",
    "filepath = \"data/pdo-indicators.csv\"\n",
    "result = df.to_csv(filepath, index=False)"
   ],
   "id": "daec025a2de31a2e",
   "outputs": [
    {
     "name": "stdout",
     "output_type": "stream",
     "text": [
      "None\n"
     ]
    }
   ],
   "execution_count": 10
  },
  {
   "metadata": {},
   "cell_type": "code",
   "outputs": [],
   "execution_count": null,
   "source": "",
   "id": "c4c0b5f5ab1c37cd"
  }
 ],
 "metadata": {
  "kernelspec": {
   "display_name": "Python 3",
   "language": "python",
   "name": "python3"
  },
  "language_info": {
   "codemirror_mode": {
    "name": "ipython",
    "version": 2
   },
   "file_extension": ".py",
   "mimetype": "text/x-python",
   "name": "python",
   "nbconvert_exporter": "python",
   "pygments_lexer": "ipython2",
   "version": "2.7.6"
  }
 },
 "nbformat": 4,
 "nbformat_minor": 5
}
